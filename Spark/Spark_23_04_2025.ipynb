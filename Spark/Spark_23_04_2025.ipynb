{
 "cells": [
  {
   "cell_type": "markdown",
   "id": "039fa167",
   "metadata": {},
   "source": [
    "## Pruebas Spark"
   ]
  },
  {
   "cell_type": "markdown",
   "id": "6f68e4de",
   "metadata": {},
   "source": [
    "Creación Data Frame"
   ]
  },
  {
   "cell_type": "code",
   "execution_count": null,
   "id": "c2293b35",
   "metadata": {},
   "outputs": [],
   "source": [
    "from pyspark.sql import SparkSession\n",
    "\n",
    "spark = SparkSession.builder.appName(\"demo\").getOrCreate()"
   ]
  },
  {
   "cell_type": "code",
   "execution_count": null,
   "id": "645461ee",
   "metadata": {},
   "outputs": [],
   "source": []
  },
  {
   "cell_type": "code",
   "execution_count": null,
   "id": "e44ec31d",
   "metadata": {},
   "outputs": [],
   "source": []
  }
 ],
 "metadata": {
  "kernelspec": {
   "display_name": "myenv",
   "language": "python",
   "name": "python3"
  },
  "language_info": {
   "codemirror_mode": {
    "name": "ipython",
    "version": 3
   },
   "file_extension": ".py",
   "mimetype": "text/x-python",
   "name": "python",
   "nbconvert_exporter": "python",
   "pygments_lexer": "ipython3",
   "version": "3.9.21"
  }
 },
 "nbformat": 4,
 "nbformat_minor": 5
}
